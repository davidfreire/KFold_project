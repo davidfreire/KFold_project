{
 "cells": [
  {
   "cell_type": "markdown",
   "metadata": {},
   "source": [
    "Interesting lecture: https://machinelearningmastery.com/k-fold-cross-validation/"
   ]
  },
  {
   "cell_type": "code",
   "execution_count": 1,
   "metadata": {},
   "outputs": [],
   "source": [
    "import sys\n",
    "sys.path.insert(0, '../') #to load KFold"
   ]
  },
  {
   "cell_type": "code",
   "execution_count": 2,
   "metadata": {},
   "outputs": [
    {
     "name": "stderr",
     "output_type": "stream",
     "text": [
      "Using TensorFlow backend.\n"
     ]
    }
   ],
   "source": [
    "from keras import Input, optimizers\n",
    "from keras.layers import Conv2D, MaxPool2D, Flatten, Dense, Dropout\n",
    "from keras.models import Model\n",
    "from KFold import K_Fold"
   ]
  },
  {
   "cell_type": "markdown",
   "metadata": {},
   "source": [
    "### First, it is important to understand differences between ShuffleSplit and KFold"
   ]
  },
  {
   "cell_type": "code",
   "execution_count": 3,
   "metadata": {},
   "outputs": [
    {
     "name": "stdout",
     "output_type": "stream",
     "text": [
      "KFold\n",
      "TRAIN: [0 2 3 4 5 7 8 9] TEST: [1 6]\n",
      "TRAIN: [0 1 2 3 5 6 7 8] TEST: [4 9]\n",
      "TRAIN: [0 1 3 4 5 6 8 9] TEST: [2 7]\n",
      "TRAIN: [1 2 3 4 6 7 8 9] TEST: [0 5]\n",
      "TRAIN: [0 1 2 4 5 6 7 9] TEST: [3 8]\n",
      "Shuffle Split\n",
      "TRAIN: [8 4 1 0 6 5 7 2] TEST: [3 9]\n",
      "TRAIN: [7 0 3 9 4 5 1 6] TEST: [8 2]\n",
      "TRAIN: [1 2 5 6 4 8 9 0] TEST: [3 7]\n",
      "TRAIN: [4 6 7 8 3 5 1 2] TEST: [9 0]\n",
      "TRAIN: [7 2 6 5 4 3 0 9] TEST: [1 8]\n"
     ]
    }
   ],
   "source": [
    "from sklearn.model_selection import StratifiedShuffleSplit, StratifiedKFold\n",
    "\n",
    "splits = 5\n",
    "\n",
    "tx = range(10)\n",
    "ty = [0] * 5 + [1] * 5\n",
    "\n",
    "kfold = StratifiedKFold(n_splits=splits, shuffle=True, random_state=42)\n",
    "shufflesplit = StratifiedShuffleSplit(n_splits=splits, random_state=42, test_size=2)\n",
    "\n",
    "print(\"KFold\")\n",
    "for train_index, test_index in kfold.split(tx, ty):\n",
    "    print(\"TRAIN:\", train_index, \"TEST:\", test_index)\n",
    "\n",
    "print(\"Shuffle Split\")\n",
    "for train_index, test_index in shufflesplit.split(tx, ty):\n",
    "    print(\"TRAIN:\", train_index, \"TEST:\", test_index)"
   ]
  },
  {
   "cell_type": "code",
   "execution_count": 4,
   "metadata": {},
   "outputs": [],
   "source": [
    "# In KFolds, each test set should not overlap, even with shuffle. \n",
    "# With KFolds and shuffle, the data is shuffled once at the start, and then divided into the number of desired splits. \n",
    "# The test data is always one of the splits, the train data is the rest.\n",
    "\n",
    "# In ShuffleSplit, the data is shuffled every time, and then split. \n",
    "# This means the test sets may overlap between the splits:\n",
    "#                                Test, first row 3 and third row 3, first row 9 and fourth row 9."
   ]
  },
  {
   "cell_type": "code",
   "execution_count": 5,
   "metadata": {},
   "outputs": [],
   "source": [
    "# Thus, in ShuffleSplit test_size can be specified, for instance .2 means 1-.2 = .8 for training.\n",
    "# While, KFolds depends on the size of the data and K (test set should not overlap), thus, if data is len 10, \n",
    "# and K is 5, then test size is 10/5=2 in order to never overlap."
   ]
  },
  {
   "cell_type": "markdown",
   "metadata": {},
   "source": [
    "### Second, let's create the K-Fold cross validation"
   ]
  },
  {
   "cell_type": "code",
   "execution_count": 6,
   "metadata": {},
   "outputs": [],
   "source": [
    "DB_Path = '/floyd/input/db1/small_dataset/train'"
   ]
  },
  {
   "cell_type": "markdown",
   "metadata": {},
   "source": [
    "The general procedure is as follows:\n",
    "\n",
    "Shuffle the dataset randomly. ok\n",
    "Split the dataset into k groups ok\n",
    "For each unique group:\n",
    "Take the group as a hold out or test data set\n",
    "Take the remaining groups as a training data set\n",
    "Fit a model on the training set and evaluate it on the test set\n",
    "Retain the evaluation score and discard the model\n",
    "Summarize the skill of the model using the sample of model evaluation scores"
   ]
  },
  {
   "cell_type": "code",
   "execution_count": 7,
   "metadata": {},
   "outputs": [],
   "source": [
    "#To save history dict\n",
    "import pickle        \n",
    "def save_obj(obj, name):\n",
    "    with open(name, 'wb') as f:\n",
    "        pickle.dump(obj, f, pickle.HIGHEST_PROTOCOL)\n",
    "\n",
    "def load_obj(name):\n",
    "    with open(name, 'rb') as f:\n",
    "        return pickle.load(f)"
   ]
  },
  {
   "cell_type": "code",
   "execution_count": 8,
   "metadata": {},
   "outputs": [],
   "source": [
    "def get_model():\n",
    "    \n",
    "    entrada= Input(shape=(150,150,3))\n",
    "    \n",
    "    conv = Conv2D(filters=32, kernel_size=3, activation='relu', name='conv_1')(entrada)\n",
    "    maxpool = MaxPool2D(pool_size=2, strides=2, name='maxpool_1')(conv)\n",
    "    \n",
    "    conv = Conv2D(filters=64, kernel_size=3, activation='relu', name='conv_2')(maxpool)\n",
    "    maxpool = MaxPool2D(pool_size=2, strides=2, name='maxpool_2')(conv)   \n",
    "    \n",
    "    conv = Conv2D(filters=128, kernel_size=3, activation='relu', name='conv_3')(maxpool)\n",
    "    maxpool = MaxPool2D(pool_size=2, strides=2, name='maxpool_3')(conv)\n",
    "        \n",
    "    conv = Conv2D(filters=128, kernel_size=3, activation='relu', name='conv_4')(maxpool)\n",
    "    maxpool = MaxPool2D(pool_size=2, strides=2, name='maxpool_4')(conv)\n",
    "    \n",
    "    flat = Flatten(name='flatten')(maxpool)\n",
    "    #drop = Dropout(rate=.5, name='dropout')(flat)\n",
    "    \n",
    "    dense = Dense(units=512, activation='relu', name='Dense1')(flat)#(drop)\n",
    "    output = Dense(units=1, activation='sigmoid', name='output')(dense)\n",
    "    #output = Dense(units=2, activation='softmax', name='output')(dense)\n",
    "    \n",
    "    model = Model(entrada, output)\n",
    "    \n",
    "    #model.compile(optimizer=optimizers.RMSprop(lr=0.001), loss='categorical_crossentropy', metrics=['acc'])\n",
    "    model.compile(optimizer=optimizers.RMSprop(lr=0.001), loss='binary_crossentropy', metrics=['acc'])\n",
    "    \n",
    "    return model"
   ]
  },
  {
   "cell_type": "code",
   "execution_count": 9,
   "metadata": {},
   "outputs": [],
   "source": [
    "#Generator parameters\n",
    "traingen_params = {\n",
    "    'rescale': 1./255\n",
    "}\n",
    "\n",
    "testgen_params = {\n",
    "    'rescale': 1./255\n",
    "}\n",
    "\n",
    "# Train parameters\n",
    "train_params = {\n",
    "    'batch_size': 20,\n",
    "    'target_size': (150,150),\n",
    "    'class_mode': 'binary', #'categorical',\n",
    "}\n",
    "\n",
    "test_params = {\n",
    "    'batch_size': 20,\n",
    "    'target_size': (150,150),\n",
    "    'class_mode': 'binary', #'categorical',\n",
    "}\n",
    "\n",
    "fit_params = {\n",
    "    'epochs':10,\n",
    "    'shuffle':True,\n",
    "    'verbose':1\n",
    "}"
   ]
  },
  {
   "cell_type": "code",
   "execution_count": 10,
   "metadata": {},
   "outputs": [],
   "source": [
    "KF = K_Fold(DB_Path, 4)"
   ]
  },
  {
   "cell_type": "code",
   "execution_count": 11,
   "metadata": {},
   "outputs": [],
   "source": [
    "model = get_model()"
   ]
  },
  {
   "cell_type": "code",
   "execution_count": 12,
   "metadata": {},
   "outputs": [
    {
     "name": "stdout",
     "output_type": "stream",
     "text": [
      "There are 4 Folds\n",
      "\n",
      "Fold  0\n",
      "For training, 1500 samples: {'cats': 750, 'dogs': 750}\n",
      "For testing, 500 samples: {'cats': 250, 'dogs': 250}\n",
      "First five X_train images: \n",
      "['/floyd/input/db1/small_dataset/train/cats/cat.932.jpg'\n",
      " '/floyd/input/db1/small_dataset/train/cats/cat.901.jpg'\n",
      " '/floyd/input/db1/small_dataset/train/cats/cat.922.jpg'\n",
      " '/floyd/input/db1/small_dataset/train/cats/cat.974.jpg'\n",
      " '/floyd/input/db1/small_dataset/train/cats/cat.492.jpg']\n",
      "First five X_val images: \n",
      "['/floyd/input/db1/small_dataset/train/cats/cat.391.jpg'\n",
      " '/floyd/input/db1/small_dataset/train/cats/cat.980.jpg'\n",
      " '/floyd/input/db1/small_dataset/train/cats/cat.524.jpg'\n",
      " '/floyd/input/db1/small_dataset/train/cats/cat.571.jpg'\n",
      " '/floyd/input/db1/small_dataset/train/cats/cat.699.jpg']\n",
      "\n",
      "Fold  1\n",
      "For training, 1500 samples: {'cats': 750, 'dogs': 750}\n",
      "For testing, 500 samples: {'cats': 250, 'dogs': 250}\n",
      "First five X_train images: \n",
      "['/floyd/input/db1/small_dataset/train/cats/cat.932.jpg'\n",
      " '/floyd/input/db1/small_dataset/train/cats/cat.901.jpg'\n",
      " '/floyd/input/db1/small_dataset/train/cats/cat.922.jpg'\n",
      " '/floyd/input/db1/small_dataset/train/cats/cat.974.jpg'\n",
      " '/floyd/input/db1/small_dataset/train/cats/cat.492.jpg']\n",
      "First five X_val images: \n",
      "['/floyd/input/db1/small_dataset/train/cats/cat.621.jpg'\n",
      " '/floyd/input/db1/small_dataset/train/cats/cat.416.jpg'\n",
      " '/floyd/input/db1/small_dataset/train/cats/cat.591.jpg'\n",
      " '/floyd/input/db1/small_dataset/train/cats/cat.690.jpg'\n",
      " '/floyd/input/db1/small_dataset/train/cats/cat.577.jpg']\n",
      "\n",
      "Fold  2\n",
      "For training, 1500 samples: {'cats': 750, 'dogs': 750}\n",
      "For testing, 500 samples: {'cats': 250, 'dogs': 250}\n",
      "First five X_train images: \n",
      "['/floyd/input/db1/small_dataset/train/cats/cat.901.jpg'\n",
      " '/floyd/input/db1/small_dataset/train/cats/cat.974.jpg'\n",
      " '/floyd/input/db1/small_dataset/train/cats/cat.492.jpg'\n",
      " '/floyd/input/db1/small_dataset/train/cats/cat.391.jpg'\n",
      " '/floyd/input/db1/small_dataset/train/cats/cat.621.jpg']\n",
      "First five X_val images: \n",
      "['/floyd/input/db1/small_dataset/train/cats/cat.932.jpg'\n",
      " '/floyd/input/db1/small_dataset/train/cats/cat.922.jpg'\n",
      " '/floyd/input/db1/small_dataset/train/cats/cat.326.jpg'\n",
      " '/floyd/input/db1/small_dataset/train/cats/cat.348.jpg'\n",
      " '/floyd/input/db1/small_dataset/train/cats/cat.453.jpg']\n",
      "\n",
      "Fold  3\n",
      "For training, 1500 samples: {'cats': 750, 'dogs': 750}\n",
      "For testing, 500 samples: {'cats': 250, 'dogs': 250}\n",
      "First five X_train images: \n",
      "['/floyd/input/db1/small_dataset/train/cats/cat.932.jpg'\n",
      " '/floyd/input/db1/small_dataset/train/cats/cat.922.jpg'\n",
      " '/floyd/input/db1/small_dataset/train/cats/cat.326.jpg'\n",
      " '/floyd/input/db1/small_dataset/train/cats/cat.348.jpg'\n",
      " '/floyd/input/db1/small_dataset/train/cats/cat.391.jpg']\n",
      "First five X_val images: \n",
      "['/floyd/input/db1/small_dataset/train/cats/cat.901.jpg'\n",
      " '/floyd/input/db1/small_dataset/train/cats/cat.974.jpg'\n",
      " '/floyd/input/db1/small_dataset/train/cats/cat.492.jpg'\n",
      " '/floyd/input/db1/small_dataset/train/cats/cat.279.jpg'\n",
      " '/floyd/input/db1/small_dataset/train/cats/cat.724.jpg']\n"
     ]
    }
   ],
   "source": [
    "KF.Check_Folds()"
   ]
  },
  {
   "cell_type": "code",
   "execution_count": 13,
   "metadata": {},
   "outputs": [
    {
     "name": "stdout",
     "output_type": "stream",
     "text": [
      "\n",
      "Fold  0\n",
      "Found 1500 images belonging to 2 classes.\n",
      "Found 500 images belonging to 2 classes.\n",
      "Training\n",
      "Epoch 1/10\n",
      "75/75 [==============================] - 12s 154ms/step - loss: 0.7573 - acc: 0.4993 - val_loss: 0.6928 - val_acc: 0.5000\n",
      "Epoch 2/10\n",
      "75/75 [==============================] - 10s 136ms/step - loss: 0.6962 - acc: 0.5240 - val_loss: 0.6901 - val_acc: 0.6120\n",
      "Epoch 3/10\n",
      "75/75 [==============================] - 10s 136ms/step - loss: 0.6957 - acc: 0.6060 - val_loss: 0.6578 - val_acc: 0.6340\n",
      "Epoch 4/10\n",
      "75/75 [==============================] - 10s 135ms/step - loss: 0.6377 - acc: 0.6427 - val_loss: 0.6534 - val_acc: 0.6240\n",
      "Epoch 5/10\n",
      "75/75 [==============================] - 10s 137ms/step - loss: 0.5843 - acc: 0.6853 - val_loss: 0.5846 - val_acc: 0.7280\n",
      "Epoch 6/10\n",
      "75/75 [==============================] - 10s 137ms/step - loss: 0.5369 - acc: 0.7347 - val_loss: 0.5735 - val_acc: 0.7260\n",
      "Epoch 7/10\n",
      "75/75 [==============================] - 10s 137ms/step - loss: 0.4900 - acc: 0.7680 - val_loss: 0.5950 - val_acc: 0.7100\n",
      "Epoch 8/10\n",
      "75/75 [==============================] - 10s 136ms/step - loss: 0.4404 - acc: 0.7867 - val_loss: 0.6886 - val_acc: 0.7080\n",
      "Epoch 9/10\n",
      "75/75 [==============================] - 10s 137ms/step - loss: 0.3889 - acc: 0.8173 - val_loss: 0.6381 - val_acc: 0.7400\n",
      "Epoch 10/10\n",
      "75/75 [==============================] - 10s 137ms/step - loss: 0.3176 - acc: 0.8547 - val_loss: 0.7398 - val_acc: 0.7040\n",
      "\n",
      "Fold  1\n",
      "Found 1500 images belonging to 2 classes.\n",
      "Found 500 images belonging to 2 classes.\n",
      "Training\n",
      "Epoch 1/10\n",
      "75/75 [==============================] - 11s 153ms/step - loss: 0.7556 - acc: 0.4980 - val_loss: 0.6921 - val_acc: 0.6140\n",
      "Epoch 2/10\n",
      "75/75 [==============================] - 10s 138ms/step - loss: 0.6943 - acc: 0.5660 - val_loss: 0.6786 - val_acc: 0.5260\n",
      "Epoch 3/10\n",
      "75/75 [==============================] - 10s 137ms/step - loss: 0.6748 - acc: 0.6207 - val_loss: 0.6589 - val_acc: 0.6160\n",
      "Epoch 4/10\n",
      "75/75 [==============================] - 10s 137ms/step - loss: 0.6264 - acc: 0.6633 - val_loss: 0.5771 - val_acc: 0.7180\n",
      "Epoch 5/10\n",
      "75/75 [==============================] - 10s 137ms/step - loss: 0.5782 - acc: 0.7093 - val_loss: 0.6399 - val_acc: 0.6800\n",
      "Epoch 6/10\n",
      "75/75 [==============================] - 10s 137ms/step - loss: 0.5206 - acc: 0.7427 - val_loss: 0.6180 - val_acc: 0.6980\n",
      "Epoch 7/10\n",
      "75/75 [==============================] - 10s 137ms/step - loss: 0.4661 - acc: 0.7827 - val_loss: 0.5611 - val_acc: 0.7000\n",
      "Epoch 8/10\n",
      "75/75 [==============================] - 10s 137ms/step - loss: 0.4075 - acc: 0.8147 - val_loss: 0.5899 - val_acc: 0.7140\n",
      "Epoch 9/10\n",
      "75/75 [==============================] - 10s 137ms/step - loss: 0.3498 - acc: 0.8420 - val_loss: 0.6385 - val_acc: 0.6840\n",
      "Epoch 10/10\n",
      "75/75 [==============================] - 10s 138ms/step - loss: 0.2767 - acc: 0.8813 - val_loss: 0.8172 - val_acc: 0.6680\n",
      "\n",
      "Fold  2\n",
      "Found 1500 images belonging to 2 classes.\n",
      "Found 500 images belonging to 2 classes.\n",
      "Training\n",
      "Epoch 1/10\n",
      "75/75 [==============================] - 11s 151ms/step - loss: 0.7338 - acc: 0.4987 - val_loss: 0.6909 - val_acc: 0.6180\n",
      "Epoch 2/10\n",
      "75/75 [==============================] - 10s 136ms/step - loss: 0.7080 - acc: 0.5407 - val_loss: 0.6876 - val_acc: 0.5640\n",
      "Epoch 3/10\n",
      "75/75 [==============================] - 10s 137ms/step - loss: 0.6912 - acc: 0.5920 - val_loss: 0.7144 - val_acc: 0.6300\n",
      "Epoch 4/10\n",
      "75/75 [==============================] - 10s 137ms/step - loss: 0.6697 - acc: 0.6280 - val_loss: 0.6691 - val_acc: 0.6060\n",
      "Epoch 5/10\n",
      "75/75 [==============================] - 10s 136ms/step - loss: 0.6073 - acc: 0.6773 - val_loss: 0.5641 - val_acc: 0.6940\n",
      "Epoch 6/10\n",
      "75/75 [==============================] - 10s 135ms/step - loss: 0.5780 - acc: 0.7233 - val_loss: 0.5822 - val_acc: 0.7020\n",
      "Epoch 7/10\n",
      "75/75 [==============================] - 10s 138ms/step - loss: 0.5881 - acc: 0.7560 - val_loss: 0.6802 - val_acc: 0.6660\n",
      "Epoch 8/10\n",
      "75/75 [==============================] - 10s 137ms/step - loss: 0.4517 - acc: 0.7800 - val_loss: 0.6135 - val_acc: 0.6800\n",
      "Epoch 9/10\n",
      "75/75 [==============================] - 10s 137ms/step - loss: 0.4113 - acc: 0.8113 - val_loss: 0.6037 - val_acc: 0.7180\n",
      "Epoch 10/10\n",
      "75/75 [==============================] - 10s 138ms/step - loss: 0.3498 - acc: 0.8540 - val_loss: 0.7174 - val_acc: 0.6800\n",
      "\n",
      "Fold  3\n",
      "Found 1500 images belonging to 2 classes.\n",
      "Found 500 images belonging to 2 classes.\n",
      "Training\n",
      "Epoch 1/10\n",
      "75/75 [==============================] - 11s 151ms/step - loss: 0.7114 - acc: 0.5080 - val_loss: 0.6907 - val_acc: 0.5980\n",
      "Epoch 2/10\n",
      "75/75 [==============================] - 10s 137ms/step - loss: 0.7049 - acc: 0.5613 - val_loss: 0.6759 - val_acc: 0.5920\n",
      "Epoch 3/10\n",
      "75/75 [==============================] - 10s 137ms/step - loss: 0.6653 - acc: 0.6227 - val_loss: 0.6750 - val_acc: 0.5600\n",
      "Epoch 4/10\n",
      "75/75 [==============================] - 10s 137ms/step - loss: 0.6402 - acc: 0.6433 - val_loss: 0.6386 - val_acc: 0.6460\n",
      "Epoch 5/10\n",
      "75/75 [==============================] - 10s 140ms/step - loss: 0.5794 - acc: 0.7007 - val_loss: 0.6564 - val_acc: 0.6420\n",
      "Epoch 6/10\n",
      "75/75 [==============================] - 10s 135ms/step - loss: 0.5122 - acc: 0.7553 - val_loss: 0.6319 - val_acc: 0.6700\n",
      "Epoch 7/10\n",
      "75/75 [==============================] - 10s 138ms/step - loss: 0.4448 - acc: 0.7940 - val_loss: 0.6115 - val_acc: 0.7080\n",
      "Epoch 8/10\n",
      "75/75 [==============================] - 10s 137ms/step - loss: 0.3882 - acc: 0.8180 - val_loss: 0.8759 - val_acc: 0.6860\n",
      "Epoch 9/10\n",
      "75/75 [==============================] - 10s 136ms/step - loss: 0.3494 - acc: 0.8480 - val_loss: 0.6936 - val_acc: 0.6980\n",
      "Epoch 10/10\n",
      "75/75 [==============================] - 10s 137ms/step - loss: 0.2821 - acc: 0.8820 - val_loss: 0.7675 - val_acc: 0.7200\n"
     ]
    }
   ],
   "source": [
    "hist = KF.Apply_KFold(model, traingen_params,  testgen_params, train_params, test_params, fit_params)"
   ]
  },
  {
   "cell_type": "code",
   "execution_count": 15,
   "metadata": {},
   "outputs": [
    {
     "name": "stdout",
     "output_type": "stream",
     "text": [
      "val_loss: 0.7604647065699102\n",
      "val_acc: 0.6929999971389771\n",
      "loss: 0.30655239490171277\n",
      "acc: 0.8679999987284343\n"
     ]
    }
   ],
   "source": [
    "import numpy as np\n",
    "for key, val in hist.items():\n",
    "    print('{0}: {1}'.format(key, np.mean(np.array(val))))"
   ]
  },
  {
   "cell_type": "code",
   "execution_count": 16,
   "metadata": {},
   "outputs": [],
   "source": [
    "save_obj(hist,'hist_config1.pkl')"
   ]
  },
  {
   "cell_type": "code",
   "execution_count": 17,
   "metadata": {},
   "outputs": [],
   "source": [
    "hist_retr = load_obj('hist_config1.pkl')"
   ]
  },
  {
   "cell_type": "code",
   "execution_count": 18,
   "metadata": {},
   "outputs": [
    {
     "name": "stdout",
     "output_type": "stream",
     "text": [
      "val_loss: 0.7604647065699102\n",
      "val_acc: 0.6929999971389771\n",
      "loss: 0.30655239490171277\n",
      "acc: 0.8679999987284343\n"
     ]
    }
   ],
   "source": [
    "for key, val in hist_retr.items():\n",
    "    print('{0}: {1}'.format(key, np.mean(np.array(val))))"
   ]
  }
 ],
 "metadata": {
  "kernelspec": {
   "display_name": "Python 3",
   "language": "python",
   "name": "python3"
  },
  "language_info": {
   "codemirror_mode": {
    "name": "ipython",
    "version": 3
   },
   "file_extension": ".py",
   "mimetype": "text/x-python",
   "name": "python",
   "nbconvert_exporter": "python",
   "pygments_lexer": "ipython3",
   "version": "3.6.5"
  }
 },
 "nbformat": 4,
 "nbformat_minor": 2
}
